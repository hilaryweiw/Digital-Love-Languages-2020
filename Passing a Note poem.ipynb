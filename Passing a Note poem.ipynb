{
 "cells": [
  {
   "cell_type": "markdown",
   "metadata": {},
   "source": [
    "# **Digital Love Languages** \n",
    "Passing a note \n",
    "\n",
    "Generative poetry using Python3 \n",
    "\n",
    "Rebecca Solnit intro paragraph the field guide to getting lost & email from mom.\n"
   ]
  },
  {
   "cell_type": "code",
   "execution_count": 65,
   "metadata": {},
   "outputs": [],
   "source": [
    "base = open('rebeccasolnit.txt').read()"
   ]
  },
  {
   "cell_type": "code",
   "execution_count": 66,
   "metadata": {},
   "outputs": [],
   "source": [
    "email = open('emailfrommom.txt').read()"
   ]
  },
   "source": [
    "email"
   ]
  },
  {
   "cell_type": "code",
   "execution_count": 47,
   "metadata": {},
   "outputs": [
    {
     "data": {
      "text/plain": [
       "\"What's your story? It's all in the telling. Stories are compasses and architecture; we navigate by them, we build our sanctuaries and our prisons out of them, and to be without a story is to be lost in the vastness of a world that spreads in all directions like arctic tundra or sea ice. To love someone is to put yourself in their place, we say, which is to put yourself in their story, or figure out how to tell yourself their story.\\n \\n\""
      ]
     },
     "execution_count": 47,
     "metadata": {},
     "output_type": "execute_result"
    }
   ],
   "source": [
    "base"
   ]
  },
  {
   "cell_type": "code",
   "execution_count": 49,
   "metadata": {},
   "outputs": [
    {
     "data": {
      "text/plain": [
       "[\"What's your story? It's all in the telling. Stories are compasses and architecture; we navigate by them\",\n",
       " ' we build our sanctuaries and our prisons out of them',\n",
       " ' and to be without a story is to be lost in the vastness of a world that spreads in all directions like arctic tundra or sea ice. To love someone is to put yourself in their place',\n",
       " ' we say',\n",
       " ' which is to put yourself in their story',\n",
       " ' or figure out how to tell yourself their story.\\n \\n']"
      ]
     },
     "execution_count": 49,
     "metadata": {},
     "output_type": "execute_result"
    }
   ],
   "source": [
    "base.split(\",\")"
   ]
  },
  {
   "cell_type": "code",
   "execution_count": 97,
   "metadata": {},
   "outputs": [],
   "source": [
    "solnit_list = base.split(\",\")"
   ]
  },
  {
   "cell_type": "code",
   "execution_count": 85,
   "metadata": {},
   "outputs": [
    {
     "data": {
      "text/plain": [
       "\"What's your story? It\""
      ]
     },
     "execution_count": 85,
     "metadata": {},
     "output_type": "execute_result"
    }
   ],
   "source": [
    "base[0:21]"
   ]
  },
  {
   "cell_type": "code",
   "execution_count": 74,
   "metadata": {},
   "outputs": [],
   "source": [
    "import random"
   ]
  },
  {
   "cell_type": "code",
   "execution_count": 75,
   "metadata": {},
   "outputs": [
    {
     "data": {
      "text/plain": [
       "['Wei,',\n",
       " 'this',\n",
       " 'is',\n",
       " 'legit.',\n",
       " 'i',\n",
       " 'just',\n",
       " 'completed',\n",
       " 'my',\n",
       " 'order.',\n",
       " 'you',\n",
       " 'can',\n",
       " 'get',\n",
       " '15%',\n",
       " 'off.....love,',\n",
       " 'moo',\n",
       " 'Hey,',\n",
       " 'I’ve',\n",
       " 'just',\n",
       " 'bought',\n",
       " 'some',\n",
       " 'yarn',\n",
       " 'for',\n",
       " 'my',\n",
       " 'stash',\n",
       " 'from',\n",
       " 'LoveCrafts',\n",
       " '(and',\n",
       " 'a',\n",
       " 'couple',\n",
       " 'of',\n",
       " 'patterns',\n",
       " 'too!)',\n",
       " 'and',\n",
       " 'they’ve',\n",
       " 'given',\n",
       " 'me',\n",
       " 'a',\n",
       " '15%',\n",
       " 'off',\n",
       " 'voucher',\n",
       " 'to',\n",
       " 'give',\n",
       " 'to',\n",
       " 'any',\n",
       " 'of',\n",
       " 'my',\n",
       " 'friends',\n",
       " 'who',\n",
       " 'haven’t',\n",
       " 'shopped',\n",
       " 'with',\n",
       " 'them',\n",
       " 'before.',\n",
       " 'They’ve',\n",
       " 'got',\n",
       " 'all',\n",
       " 'our',\n",
       " 'favourite',\n",
       " 'yarns,',\n",
       " 'tons',\n",
       " 'of',\n",
       " 'patterns,',\n",
       " 'expert',\n",
       " 'service',\n",
       " 'and',\n",
       " 'fast',\n",
       " 'delivery',\n",
       " '-',\n",
       " 'and',\n",
       " 'some',\n",
       " 'great',\n",
       " 'offers',\n",
       " 'and',\n",
       " 'sales,',\n",
       " 'too.',\n",
       " 'https://lovecrafts.mention-me.com/m/ode/nv9hg-grace-wang',\n",
       " 'If',\n",
       " 'you',\n",
       " 'don’t',\n",
       " 'want',\n",
       " 'me',\n",
       " 'to',\n",
       " 'send',\n",
       " 'you',\n",
       " 'these',\n",
       " 'types',\n",
       " 'of',\n",
       " 'offers',\n",
       " 'just',\n",
       " 'let',\n",
       " 'me',\n",
       " 'know']"
      ]
     },
     "execution_count": 75,
     "metadata": {},
     "output_type": "execute_result"
    }
   ],
   "source": [
    "email.split()"
   ]
  },
  {
   "cell_type": "code",
   "execution_count": 103,
   "metadata": {},
   "outputs": [],
   "source": [
    "email_list = email.split()"
   ]
  },
  {
   "cell_type": "code",
   "execution_count": 108,
   "metadata": {},
   "outputs": [
    {
     "data": {
      "text/plain": [
       "['off.....love,', 'a', 'tons', 'me']"
      ]
     },
     "execution_count": 108,
     "metadata": {},
     "output_type": "execute_result"
    }
   ],
   "source": [
    "random.sample(email_list, 4)"
   ]
  },
  {
   "cell_type": "code",
   "execution_count": 127,
   "metadata": {},
   "outputs": [
    {
     "data": {
      "text/plain": [
       "' or figure out how to tell yourself their story.\\n'"
      ]
     },
     "execution_count": 127,
     "metadata": {},
     "output_type": "execute_result"
    }
   ],
   "source": [
    "random.choice(solnit_list)"
   ]
  },
  {
   "cell_type": "code",
   "execution_count": 128,
   "metadata": {},
   "outputs": [
    {
     "data": {
      "text/plain": [
       "[' which is to put yourself in their story',\n",
       " \"What's your story? It's all in the telling. Stories are compasses and architecture; we navigate by them\",\n",
       " ' or figure out how to tell yourself their story.\\n',\n",
       " ' and to be without a story is to be lost in the vastness of a world that spreads in all directions like arctic tundra or sea ice. To love someone is to put yourself in their place',\n",
       " ' we say']"
      ]
     },
     "execution_count": 128,
     "metadata": {},
     "output_type": "execute_result"
    }
   ],
   "source": [
    "random.sample(solnit_list, 5)"
   ]
  },
  {
   "cell_type": "code",
   "execution_count": 88,
   "metadata": {},
   "outputs": [
    {
     "data": {
      "text/plain": [
       "\"W*h*a*t*'*s* *y*o*u*r* *s*t*o*r*y*?* *I*t*'*s* *a*l*l* *i*n* *t*h*e* *t*e*l*l*i*n*g*.* *S*t*o*r*i*e*s* *a*r*e* *c*o*m*p*a*s*s*e*s* *a*n*d* *a*r*c*h*i*t*e*c*t*u*r*e*;* *w*e* *n*a*v*i*g*a*t*e* *b*y* *t*h*e*m*,* *w*e* *b*u*i*l*d* *o*u*r* *s*a*n*c*t*u*a*r*i*e*s* *a*n*d* *o*u*r* *p*r*i*s*o*n*s* *o*u*t* *o*f* *t*h*e*m*,* *a*n*d* *t*o* *b*e* *w*i*t*h*o*u*t* *a* *s*t*o*r*y* *i*s* *t*o* *b*e* *l*o*s*t* *i*n* *t*h*e* *v*a*s*t*n*e*s*s* *o*f* *a* *w*o*r*l*d* *t*h*a*t* *s*p*r*e*a*d*s* *i*n* *a*l*l* *d*i*r*e*c*t*i*o*n*s* *l*i*k*e* *a*r*c*t*i*c* *t*u*n*d*r*a* *o*r* *s*e*a* *i*c*e*.* *T*o* *l*o*v*e* *s*o*m*e*o*n*e* *i*s* *t*o* *p*u*t* *y*o*u*r*s*e*l*f* *i*n* *t*h*e*i*r* *p*l*a*c*e*,* *w*e* *s*a*y*,* *w*h*i*c*h* *i*s* *t*o* *p*u*t* *y*o*u*r*s*e*l*f* *i*n* *t*h*e*i*r* *s*t*o*r*y*,* *o*r* *f*i*g*u*r*e* *o*u*t* *h*o*w* *t*o* *t*e*l*l* *y*o*u*r*s*e*l*f* *t*h*e*i*r* *s*t*o*r*y*.*\\n\""
      ]
     },
     "execution_count": 88,
     "metadata": {},
     "output_type": "execute_result"
    }
   ],
   "source": [
    "\"*\".join(base)"
   ]
  },
  {
   "cell_type": "code",
   "execution_count": 183,
   "metadata": {},
   "outputs": [],
   "source": [
    "passage = random.sample(solnit_list, 5)"
   ]
  },
  {
   "cell_type": "code",
   "execution_count": 184,
   "metadata": {},
   "outputs": [
    {
     "name": "stdout",
     "output_type": "stream",
     "text": [
      "[' and to be without a story is to be lost in the vastness of a world that spreads in all directions like arctic tundra or sea ice. To love someone is to put yourself in their place', ' we say', ' we build our sanctuaries and our prisons out of them', ' which is to put yourself in their story', ' or figure out how to tell yourself their story.\\n']\n"
     ]
    }
   ],
   "source": [
    "print(passage)"
   ]
  },
  {
   "cell_type": "code",
   "execution_count": 174,
   "metadata": {},
   "outputs": [],
   "source": [
    "mom_email = random.sample(email_list, 10)"
   ]
  },
  {
   "cell_type": "code",
   "execution_count": 175,
   "metadata": {},
   "outputs": [
    {
     "name": "stdout",
     "output_type": "stream",
     "text": [
      "['and', 'to', 'I’ve', 'too!)', 'off.....love,', 'moo', 'expert', 'Hey,', 'LoveCrafts', 'too.']\n"
     ]
    }
   ],
   "source": [
    "print(mom_email)"
   ]
  },
  {
   "cell_type": "code",
   "execution_count": 181,
   "metadata": {},
   "outputs": [
    {
     "name": "stdout",
     "output_type": "stream",
     "text": [
      "Dear Wei\n",
      "What's your story? It's all in the telling. Stories are compasses and architecture; we navigate by them\n",
      " too!)\n",
      "    or figure out how to tell yourself their story.\n",
      "\n",
      "     too.\n",
      "                        Sent from my iPad\n",
      "\n",
      "Dear Wei\n",
      " which is to put yourself in their story\n",
      " too!)\n",
      "    and to be without a story is to be lost in the vastness of a world that spreads in all directions like arctic tundra or sea ice. To love someone is to put yourself in their place\n",
      "     expert\n",
      "                        Sent from my iPad\n",
      "\n",
      "Dear Wei\n",
      " or figure out how to tell yourself their story.\n",
      "\n",
      " expert\n",
      "    we build our sanctuaries and our prisons out of them\n",
      "     expert\n",
      "                        Sent from my iPad\n",
      "\n"
     ]
    }
   ],
   "source": [
    "stanza_count = 3\n",
    "for i in range(stanza_count):\n",
    "    print(\"Dear Wei\")\n",
    "    print(random.choice(passage))\n",
    "    print(\" \" + random.choice(mom_email))\n",
    "    print(\"   \"+ random.choice(passage))\n",
    "    print(\"     \" + random.choice(mom_email))\n",
    "    print(\"                        Sent from my iPad\")\n",
    "    print()"
   ]
  }
 ],
 "metadata": {
  "kernelspec": {
   "display_name": "Python 3",
   "language": "python",
   "name": "python3"
  },
  "language_info": {
   "codemirror_mode": {
    "name": "ipython",
    "version": 3
   },
   "file_extension": ".py",
   "mimetype": "text/x-python",
   "name": "python",
   "nbconvert_exporter": "python",
   "pygments_lexer": "ipython3",
   "version": "3.7.6"
  }
 },
 "nbformat": 4,
 "nbformat_minor": 4
}
